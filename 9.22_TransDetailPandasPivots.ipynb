{
 "cells": [
  {
   "cell_type": "markdown",
   "metadata": {},
   "source": [
    "# Data Loading to Dataframe\n",
    "\n",
    "The first step is to load the Find Journal Lines document into a dataframe."
   ]
  },
  {
   "cell_type": "code",
   "execution_count": 1,
   "metadata": {},
   "outputs": [],
   "source": [
    "import pandas as pd\n",
    "import numpy as np"
   ]
  },
  {
   "cell_type": "code",
   "execution_count": 2,
   "metadata": {},
   "outputs": [
    {
     "name": "stderr",
     "output_type": "stream",
     "text": [
      "<string>:2: DtypeWarning: Columns (1,2,3,6,8,11,18,19,21,30,32,33,34,35,36) have mixed types.Specify dtype option on import or set low_memory=False.\n"
     ]
    },
    {
     "name": "stdout",
     "output_type": "stream",
     "text": [
      "Wall time: 2.94 s\n"
     ]
    }
   ],
   "source": [
    "%%time\n",
    "trans_detail = pd.read_csv(\"Find Journal Lines - NMSS 2020-09-22 12_58 PDT.csv\", header = 36)"
   ]
  },
  {
   "cell_type": "code",
   "execution_count": 3,
   "metadata": {},
   "outputs": [
    {
     "name": "stdout",
     "output_type": "stream",
     "text": [
      "                                             Journal Journal Number  \\\n",
      "0  Operational Journal: FF Fast Forward, LLC. - 1...            NaN   \n",
      "1  Operational Journal: FF Fast Forward, LLC. - 1...            NaN   \n",
      "2  Operational Journal: FF Fast Forward, LLC. - 1...            NaN   \n",
      "3  Operational Journal: FF Fast Forward, LLC. - 1...            NaN   \n",
      "4  Operational Journal: FF Fast Forward, LLC. - 1...            NaN   \n",
      "\n",
      "  Journal Sequence Number                 Journal Memo  \\\n",
      "0    PYMT-2020-Oct-000001                          NaN   \n",
      "1    PYMT-2020-Oct-000001                          NaN   \n",
      "2    PYMT-2020-Oct-000002                          NaN   \n",
      "3    PYMT-2020-Oct-000002                          NaN   \n",
      "4     EXP-2020-Oct-000001  ECTRIMS 2019 meeting travel   \n",
      "\n",
      "                            Operational Transaction   Originated by  \\\n",
      "0  Ad Hoc Payment: Thomas Eric Osborne - 10/15/2019   Conrad Lozano   \n",
      "1  Ad Hoc Payment: Thomas Eric Osborne - 10/15/2019   Conrad Lozano   \n",
      "2      Ad Hoc Payment: Jonathan Lemons - 10/15/2019   Conrad Lozano   \n",
      "3      Ad Hoc Payment: Jonathan Lemons - 10/15/2019   Conrad Lozano   \n",
      "4                         Expense Report: EX-000242  Walter Kostich   \n",
      "\n",
      "       Approved by                Company  \\\n",
      "0              NaN  FF Fast Forward, LLC.   \n",
      "1              NaN  FF Fast Forward, LLC.   \n",
      "2              NaN  FF Fast Forward, LLC.   \n",
      "3              NaN  FF Fast Forward, LLC.   \n",
      "4  Mark Allegretta  FF Fast Forward, LLC.   \n",
      "\n",
      "            Intercompany Initiating Company  Status  ... Location  \\\n",
      "0  NMSS National Multiple Sclerosis Society  Posted  ...      NaN   \n",
      "1  NMSS National Multiple Sclerosis Society  Posted  ...      NaN   \n",
      "2  NMSS National Multiple Sclerosis Society  Posted  ...      NaN   \n",
      "3  NMSS National Multiple Sclerosis Society  Posted  ...      NaN   \n",
      "4                                       NaN  Posted  ...      NaN   \n",
      "\n",
      "  Fundraising Type InKind           State Bank Account  \\\n",
      "0              NaN    NaN             NaN          NaN   \n",
      "1       2 day Bike    NaN  North Carolina          NaN   \n",
      "2              NaN    NaN             NaN          NaN   \n",
      "3       2 day Bike    NaN  North Carolina          NaN   \n",
      "4              NaN    NaN             NaN          NaN   \n",
      "\n",
      "                     Intercompany Affiliate  Supplier  Customer  \\\n",
      "0  NMSS National Multiple Sclerosis Society       NaN       NaN   \n",
      "1                                       NaN       NaN       NaN   \n",
      "2  NMSS National Multiple Sclerosis Society       NaN       NaN   \n",
      "3                                       NaN       NaN       NaN   \n",
      "4                                       NaN       NaN       NaN   \n",
      "\n",
      "         Employee Match ID  \n",
      "0             NaN      NaN  \n",
      "1             NaN      NaN  \n",
      "2             NaN      NaN  \n",
      "3             NaN      NaN  \n",
      "4  Walter Kostich      NaN  \n",
      "\n",
      "[5 rows x 38 columns]\n"
     ]
    }
   ],
   "source": [
    "print(trans_detail.head())"
   ]
  },
  {
   "cell_type": "markdown",
   "metadata": {},
   "source": [
    "# Formatting\n",
    "\n",
    "The next step is to add columns to the data so that I can format the way I will need to in the pivot tables.  Currently there is no \"Months\" column, and not all of the Spend Categories show up in our reports.  Additionally, I need to subtract credits from debits to figure out what hits the reports, and I need to exclude In-Kind from all of our reporting. "
   ]
  },
  {
   "cell_type": "code",
   "execution_count": 4,
   "metadata": {},
   "outputs": [],
   "source": [
    "FY20_Data = trans_detail\n",
    "\n",
    "FY20_Data = FY20_Data.reset_index()\n",
    "\n",
    "FY20_Data = FY20_Data.drop('index',1)\n",
    "\n",
    "FY20_Data.rename(columns=FY20_Data.iloc[1])\n",
    "\n",
    "#print(FY20_Data.iloc[0])\n",
    "\n",
    "#print(FY20_Data.head())\n",
    "\n",
    "column_names = ['Journal', 'Journal Number', 'Journal Sequence Number', 'Journal Memo', 'Operational Transaction', 'Originated by', 'Approved by', 'Company',\n",
    "'Intercompany Initiating Company','Status', 'Accounting Date','Posted Date','Source', 'Ledger','Currency','Ledger Account','Ledger Debit Amount',\n",
    "'Ledger Credit Amount','Line Memo','External Reference ID', 'Spend Category','Revenue Category', 'Cost Center','Fund',\n",
    "'Gift','Program','Project','Region','Location','Fundraising Type', 'InKind','State','Bank Account','Intercompany Affiliate','Supplier','Customer','Employee','Match ID']\n",
    "\n",
    "FY20_Data.columns = column_names\n",
    "\n",
    "FY20_Data = FY20_Data.drop([0])\n",
    "\n",
    "FY20_Data = FY20_Data.reset_index()\n",
    "\n",
    "FY20_Data = FY20_Data.drop('index',1)\n",
    "\n"
   ]
  },
  {
   "cell_type": "code",
   "execution_count": 5,
   "metadata": {},
   "outputs": [],
   "source": [
    "FY20_Data['Debit-Credit'] = FY20_Data.apply(lambda x: x['Ledger Debit Amount'] - x['Ledger Credit Amount'], axis=1)\n",
    "FY20_Data['Accounting Date'] = pd.to_datetime(FY20_Data['Accounting Date'])\n",
    "FY20_Data['Month - Yr'] = FY20_Data['Accounting Date'].apply(lambda x: x.strftime('%m-%y'))\n",
    "GL_Lookup = pd.read_excel('Ledger_Account_Table.xlsx', sheet_name = 'Sheet1')\n",
    "FY20_Data = pd.merge(FY20_Data, GL_Lookup, on='Ledger Account', how='left')"
   ]
  },
  {
   "cell_type": "code",
   "execution_count": 6,
   "metadata": {},
   "outputs": [],
   "source": [
    "def return_first(x):\n",
    "    first = x[0]\n",
    "    return first"
   ]
  },
  {
   "cell_type": "code",
   "execution_count": 7,
   "metadata": {},
   "outputs": [],
   "source": [
    "FY20_Data['First'] = FY20_Data['Ledger Account'].apply(return_first)"
   ]
  },
  {
   "cell_type": "code",
   "execution_count": 8,
   "metadata": {},
   "outputs": [],
   "source": [
    "FY20_Data['Exp/DBD/Rev'] = FY20_Data['First'].map({'4':'Revenue', '5':'Expense', '6':'DBD', '1':'BS', '2':'BS', '3':'BS'})"
   ]
  },
  {
   "cell_type": "code",
   "execution_count": 9,
   "metadata": {},
   "outputs": [],
   "source": [
    "del FY20_Data['First']"
   ]
  },
  {
   "cell_type": "code",
   "execution_count": 10,
   "metadata": {},
   "outputs": [],
   "source": [
    "FY20_Data['Debit-Credit'].fillna(0, inplace=True)\n",
    "\n",
    "FY20_Data['Supplier'].fillna(\"Not Available\", inplace=True)\n",
    "\n",
    "FY20_Data['Line Memo'].fillna(\"No Description Available\", inplace=True)\n",
    "\n",
    "FY20_Data['Operational Transaction'].fillna(\"Not Available\", inplace=True)\n",
    "\n",
    "FY20_Data['Journal Memo'].fillna(\"Not Available\", inplace=True)\n",
    "\n",
    "FY20_Data['Project'].fillna(\"No Project\", inplace=True)\n",
    "\n",
    "FY20_Data['Spend Category'].fillna(\"No Spend Category\", inplace=True)\n",
    "\n",
    "FY20_Data['Location'].fillna(\"No Location\", inplace=True)\n",
    "\n",
    "FY20_Data['Employee'].fillna(\"No Employee\", inplace=True)\n",
    "\n",
    "FY20_Data['Program'].fillna(\"No Program\", inplace=True)\n",
    "\n",
    "FY20_Data['Status'].fillna(\"NA\", inplace=True)\n",
    "\n",
    "FY20_Data['InKind'].fillna(\"No\", inplace=True)"
   ]
  },
  {
   "cell_type": "code",
   "execution_count": 11,
   "metadata": {},
   "outputs": [
    {
     "data": {
      "text/plain": [
       "(276870, 42)"
      ]
     },
     "execution_count": 11,
     "metadata": {},
     "output_type": "execute_result"
    }
   ],
   "source": [
    "FY20_DataCreatedPosted = FY20_Data[(FY20_Data['Status']=='Posted')|(FY20_Data['Status']=='Created')]\n",
    "\n",
    "FY20_DataCreatedPosted.shape\n"
   ]
  },
  {
   "cell_type": "code",
   "execution_count": 12,
   "metadata": {},
   "outputs": [
    {
     "data": {
      "text/plain": [
       "Index(['Journal', 'Journal Number', 'Journal Sequence Number', 'Journal Memo',\n",
       "       'Operational Transaction', 'Originated by', 'Approved by', 'Company',\n",
       "       'Intercompany Initiating Company', 'Status', 'Accounting Date',\n",
       "       'Posted Date', 'Source', 'Ledger', 'Currency', 'Ledger Account',\n",
       "       'Ledger Debit Amount', 'Ledger Credit Amount', 'Line Memo',\n",
       "       'External Reference ID', 'Spend Category', 'Revenue Category',\n",
       "       'Cost Center', 'Fund', 'Gift', 'Program', 'Project', 'Region',\n",
       "       'Location', 'Fundraising Type', 'InKind', 'State', 'Bank Account',\n",
       "       'Intercompany Affiliate', 'Supplier', 'Customer', 'Employee',\n",
       "       'Match ID', 'Debit-Credit', 'Month - Yr', 'In/Out', 'Exp/DBD/Rev'],\n",
       "      dtype='object')"
      ]
     },
     "execution_count": 12,
     "metadata": {},
     "output_type": "execute_result"
    }
   ],
   "source": [
    "FY20_Data.columns"
   ]
  },
  {
   "cell_type": "code",
   "execution_count": 13,
   "metadata": {},
   "outputs": [
    {
     "name": "stdout",
     "output_type": "stream",
     "text": [
      "['CC023 Bike MS', nan, 'CC001 Research', 'CC028 MS Navigator', 'CC012 Technology', 'CC008 Legal and Risk', 'CC014 Finance Operations', 'CC005 Facilities', 'CC025 Other Special Events', 'CC024 Walk MS', 'CC006 Human Resources', 'CC029 Professional Education', 'CC022 Leadership Events', 'CC018 Direct Marketing\\xa0', 'CC009 Marketing', 'CC004 Operations', 'CC027 Programs & Services', 'CC016 Individual Giving', 'CC021 Challenge Walk', 'CC020 Do It Yourself (DIY)', 'CC019 Corporate Relations', 'CC002 Advocacy', 'CC032 Services Resources', 'CC033 Community Leadership', 'CC015 Development', 'CC026 MuckFest MS', 'CC007 Volunteer Engagement', 'CC010 Digital Marketing', 'CC003 ELT', 'CC034 Community Engagement', 'CC035 Event Production', 'CC017 Tools and Resources', 'CC011 Brand Management', 'CC013 Strategic Finance', 'CC036 Fundraising Support']\n"
     ]
    }
   ],
   "source": [
    "Cost_Centers = list(FY20_Data['Cost Center'].unique())\n",
    "\n",
    "\n",
    "print(Cost_Centers)"
   ]
  },
  {
   "cell_type": "markdown",
   "metadata": {},
   "source": [
    "# Data Filtering\n",
    "\n",
    "Now that the dataframe has all the columns I need, the next step is to filter it so that I have a dataframe for each Cost Center and each different group that needs a different report.  That is what I am doing in the next section. "
   ]
  },
  {
   "cell_type": "code",
   "execution_count": 14,
   "metadata": {},
   "outputs": [],
   "source": [
    "def createCC(Cost_Center):\n",
    "    return FY20_DataCreatedPosted[(FY20_DataCreatedPosted['Cost Center']==Cost_Center) & (FY20_DataCreatedPosted['In/Out']=='In') & (FY20_DataCreatedPosted['Exp/DBD/Rev']=='Expense') & (FY20_DataCreatedPosted['InKind']=='No')]\n",
    " \n",
    "    "
   ]
  },
  {
   "cell_type": "code",
   "execution_count": 15,
   "metadata": {},
   "outputs": [],
   "source": [
    "def create_Occupancy(Cost_Center):\n",
    "        return FY20_DataCreatedPosted[(FY20_DataCreatedPosted['Cost Center']==Cost_Center) & (FY20_DataCreatedPosted['In/Out']=='In') & (FY20_DataCreatedPosted['Exp/DBD/Rev']=='Expense') & (FY20_DataCreatedPosted['InKind']=='No') & (FY20_DataCreatedPosted['Spend Category']=='Office Cleaning & CAM Expense')|(FY20_DataCreatedPosted['Spend Category']=='Office Moving Expense')|(FY20_DataCreatedPosted['Spend Category']=='Office Rent Expense')|(FY20_DataCreatedPosted['Spend Category']=='Property Tax Expense')|(FY20_DataCreatedPosted['Spend Category']=='Security Expense')|(FY20_DataCreatedPosted['Spend Category']=='Staff Relocation Expense')|(FY20_DataCreatedPosted['Spend Category']=='Storage Rent Expense')|(FY20_DataCreatedPosted['Spend Category']=='Utilities')]"
   ]
  },
  {
   "cell_type": "code",
   "execution_count": 16,
   "metadata": {},
   "outputs": [],
   "source": [
    "Occupancy = create_Occupancy('CC005 Facilities')"
   ]
  },
  {
   "cell_type": "code",
   "execution_count": 17,
   "metadata": {},
   "outputs": [],
   "source": [
    "FinanceOps = createCC('CC014 Finance Operations')\n",
    "StrategicFin = createCC('CC013 Strategic Finance')\n",
    "\n",
    "Finance = pd.concat([FinanceOps, StrategicFin], ignore_index=True, sort=False)\n"
   ]
  },
  {
   "cell_type": "code",
   "execution_count": 18,
   "metadata": {},
   "outputs": [],
   "source": [
    "Ops = createCC('CC004 Operations')\n",
    "ELT = createCC('CC003 ELT')\n",
    "\n",
    "Operations = pd.concat([Ops, ELT], ignore_index=True, sort=False)"
   ]
  },
  {
   "cell_type": "code",
   "execution_count": 19,
   "metadata": {},
   "outputs": [],
   "source": [
    "HR = createCC('CC006 Human Resources')\n",
    "IndividualGiving = createCC('CC016 Individual Giving')\n",
    "VE = createCC('CC007 Volunteer Engagement')\n",
    "Legal = createCC('CC008 Legal and Risk')\n",
    "Professional_Education = createCC('CC029 Professional Education')\n",
    "Corporate_Relations = createCC('CC019 Corporate Relations')\n",
    "Direct_Marketing = createCC('CC018 Direct Marketing\\xa0')\n",
    "Marketing = createCC('CC009 Marketing')\n",
    "Research = createCC('CC001 Research')\n",
    "MS_Navigator = createCC('CC028 MS Navigator')\n",
    "Development = createCC('CC015 Development')\n",
    "Digital_Marketing = createCC('CC010 Digital Marketing')\n",
    "Community_Engagement = createCC('CC034 Community Engagement')\n",
    "Community_Leadership = createCC('CC033 Community Leadership')\n",
    "Event_Production = createCC('CC035 Event Production')\n",
    "Tools_and_Resources = createCC('CC017 Tools and Resources')\n",
    "Brand_Management = createCC('CC011 Brand Management')\n",
    "Fundraising_Support = createCC('CC036 Fundraising Support')\n",
    "Facilities = createCC('CC005 Facilities')\n",
    "Advocacy = createCC('CC002 Advocacy')\n",
    "ProgramsandServices = createCC('CC027 Programs & Services')\n",
    "Services_Resources = createCC('CC032 Services Resources')\n"
   ]
  },
  {
   "cell_type": "code",
   "execution_count": 20,
   "metadata": {},
   "outputs": [],
   "source": [
    "DevelopmentRollup = pd.concat([Development, IndividualGiving, Tools_and_Resources, Event_Production, Fundraising_Support, Corporate_Relations], ignore_index=True, sort=False)"
   ]
  },
  {
   "cell_type": "code",
   "execution_count": 21,
   "metadata": {},
   "outputs": [],
   "source": [
    "CommunityRollup = pd.concat([Community_Engagement, Community_Leadership], ignore_index=True, sort=False)"
   ]
  },
  {
   "cell_type": "code",
   "execution_count": 22,
   "metadata": {},
   "outputs": [],
   "source": [
    "ProgramsandServicesRollup = pd.concat([ProgramsandServices, MS_Navigator, Professional_Education, Services_Resources], ignore_index=True, sort=False)"
   ]
  },
  {
   "cell_type": "code",
   "execution_count": 23,
   "metadata": {},
   "outputs": [],
   "source": [
    "MarketingRollup = pd.concat([Marketing, Digital_Marketing, Brand_Management], ignore_index=True, sort=False)"
   ]
  },
  {
   "cell_type": "code",
   "execution_count": 24,
   "metadata": {},
   "outputs": [],
   "source": [
    "Technology = createCC('CC012 Technology')"
   ]
  },
  {
   "cell_type": "code",
   "execution_count": 25,
   "metadata": {},
   "outputs": [
    {
     "data": {
      "text/plain": [
       "Office Rent Expense              2492\n",
       "Storage Rent Expense             1392\n",
       "Office Cleaning & CAM Expense    1128\n",
       "Utilities                         580\n",
       "Property Tax Expense              283\n",
       "Security Expense                   78\n",
       "Office Moving Expense              72\n",
       "Name: Spend Category, dtype: int64"
      ]
     },
     "execution_count": 25,
     "metadata": {},
     "output_type": "execute_result"
    }
   ],
   "source": [
    "Occupancy[\"Spend Category\"].value_counts()"
   ]
  },
  {
   "cell_type": "markdown",
   "metadata": {},
   "source": [
    "# Create Pivot Tables\n",
    "\n",
    "In this section, I am creating the Pivot Tables in a way where we can match up the totals with what shows up in our reports from Workday, but so that we can also see all of the detail that we would nee to see to understand these expenses in the Pivot Tables.  When I bring in \"Operational Transaction\", we will be given the Supplier Invoices numbers which we can use to search Workday for whatever Supplier Invoices we would need."
   ]
  },
  {
   "cell_type": "code",
   "execution_count": 26,
   "metadata": {},
   "outputs": [],
   "source": [
    "def create_project_pivot(Group):\n",
    "    Month_order = ['10-19', '11-19', '12-19', '01-20', '02-20', '03-20', '04-20', '05-20', '06-20', '07-20', '08-20', '09-20']\n",
    "    table = pd.pivot_table(Group, index = ['Project','Spend Category','Supplier','Line Memo', 'Journal Memo', 'Operational Transaction', 'Employee'], values = 'Debit-Credit', columns = 'Month - Yr', aggfunc=np.sum)\n",
    "    table2 = table.reindex(Month_order, axis=1)\n",
    "    table2['Total'] = table2.iloc[:,-12:-1].sum(axis=1)\n",
    "    return table2"
   ]
  },
  {
   "cell_type": "code",
   "execution_count": 27,
   "metadata": {},
   "outputs": [],
   "source": [
    "def create_Rollup_pivot(Group):\n",
    "    Month_order = ['10-19', '11-19', '12-19', '01-20', '02-20', '03-20', '04-20', '05-20', '06-20', '07-20', '08-20', '09-20']\n",
    "    table = pd.pivot_table(Group, index = ['Cost Center','Spend Category','Supplier','Line Memo', 'Journal Memo', 'Operational Transaction', 'Employee'], values = 'Debit-Credit', columns = 'Month - Yr', aggfunc=np.sum)\n",
    "    table2 = table.reindex(Month_order, axis=1)\n",
    "    table2['Total'] = table2.iloc[:,-12:-1].sum(axis=1)\n",
    "    return table2"
   ]
  },
  {
   "cell_type": "code",
   "execution_count": 28,
   "metadata": {},
   "outputs": [],
   "source": [
    "def create_Occupancy_pivot(Group):\n",
    "    Month_order = ['10-19', '11-19', '12-19', '01-20', '02-20', '03-20', '04-20', '05-20', '06-20', '07-20', '08-20', '09-20']\n",
    "    table = pd.pivot_table(Group, index = ['Location','Spend Category','Supplier','Line Memo', 'Journal Memo', 'Operational Transaction'], values = 'Debit-Credit', columns = 'Month - Yr', aggfunc=np.sum)\n",
    "    table2 = table.reindex(Month_order, axis=1)\n",
    "    table2['Total'] = table2.iloc[:,-12:].sum(axis=1)\n",
    "    return table2"
   ]
  },
  {
   "cell_type": "code",
   "execution_count": 29,
   "metadata": {},
   "outputs": [],
   "source": [
    "def create_Services_pivot(Group):\n",
    "    Month_order = ['10-19', '11-19', '12-19', '01-20', '02-20', '03-20', '04-20', '05-20', '06-20', '07-20', '08-20', '09-20']\n",
    "    table = pd.pivot_table(Group, index = ['Program','Spend Category','Supplier','Line Memo', 'Journal Memo', 'Operational Transaction', 'Employee'], values = 'Debit-Credit', columns = 'Month - Yr', aggfunc=np.sum)\n",
    "    table2 = table.reindex(Month_order, axis=1)\n",
    "    table2['Total'] = table2.iloc[:,-12:].sum(axis=1)\n",
    "    return table2"
   ]
  },
  {
   "cell_type": "code",
   "execution_count": 30,
   "metadata": {},
   "outputs": [],
   "source": [
    "Occupancypivot = create_Occupancy_pivot(Occupancy)"
   ]
  },
  {
   "cell_type": "code",
   "execution_count": 31,
   "metadata": {},
   "outputs": [],
   "source": [
    "ProgramsandServicespivot = create_Services_pivot(ProgramsandServices)"
   ]
  },
  {
   "cell_type": "code",
   "execution_count": 32,
   "metadata": {},
   "outputs": [],
   "source": [
    "Technologypivot = create_project_pivot(Technology)"
   ]
  },
  {
   "cell_type": "code",
   "execution_count": 33,
   "metadata": {},
   "outputs": [],
   "source": [
    "Marketingpivot = create_project_pivot(Marketing)"
   ]
  },
  {
   "cell_type": "code",
   "execution_count": 34,
   "metadata": {},
   "outputs": [],
   "source": [
    "def create_basic_pivot(Group):\n",
    "    Month_order = ['10-19', '11-19', '12-19', '01-20', '02-20', '03-20', '04-20', '05-20', '06-20', '07-20', '08-20', '09-20']\n",
    "    table = pd.pivot_table(Group, index = ['Spend Category','Supplier','Line Memo', 'Journal Memo', 'Operational Transaction', 'Employee'], values = 'Debit-Credit', columns = 'Month - Yr', aggfunc=np.sum)\n",
    "    table2 = table.reindex(Month_order, axis=1)\n",
    "    table2['Total'] = table2.iloc[:,-12:].sum(axis=1)\n",
    "    return table2"
   ]
  },
  {
   "cell_type": "code",
   "execution_count": 35,
   "metadata": {},
   "outputs": [],
   "source": [
    "import os\n",
    "\n",
    "path = r'C:\\Users\\jeremy.wendt\\Anaconda3\\envs\\pandas_trans\\Details'"
   ]
  },
  {
   "cell_type": "code",
   "execution_count": 36,
   "metadata": {},
   "outputs": [],
   "source": [
    "Financepivot = create_basic_pivot(Finance)\n",
    "VEpivot = create_basic_pivot(VE)\n",
    "HRpivot = create_basic_pivot(HR)\n",
    "Legalpivot = create_basic_pivot(Legal)\n",
    "Prof_Edpivot = create_basic_pivot(Professional_Education)\n",
    "DirectMarketingpivot = create_basic_pivot(Direct_Marketing)\n",
    "Researchpivot = create_basic_pivot(Research)\n",
    "MS_Navigatorpivot = create_basic_pivot(MS_Navigator)\n",
    "Developmentpivot = create_basic_pivot(Development)\n",
    "Digital_Marketingpivot = create_basic_pivot(Digital_Marketing)\n",
    "Community_Engagementpivot = create_basic_pivot(Community_Engagement)\n",
    "Community_Leadershippivot = create_basic_pivot(Community_Leadership)\n",
    "Event_Productionpivot = create_basic_pivot(Event_Production)\n",
    "ToolsandResourcespivot = create_basic_pivot(Tools_and_Resources)\n",
    "Brand_Managementpivot = create_basic_pivot(Brand_Management)\n",
    "FundraisingSupportpivot = create_basic_pivot(Fundraising_Support)\n",
    "Facilitiespivot = create_basic_pivot(Facilities)\n",
    "Advocacypivot = create_basic_pivot(Advocacy)\n",
    "Services_Resourcespivot = create_basic_pivot(Services_Resources)\n",
    "Operationspivot = create_basic_pivot(Operations)\n"
   ]
  },
  {
   "cell_type": "code",
   "execution_count": 37,
   "metadata": {},
   "outputs": [],
   "source": [
    "DevelopmentRolluppivot = create_Rollup_pivot(DevelopmentRollup)\n",
    "CommunityRolluppivot = create_Rollup_pivot(CommunityRollup)\n",
    "MarketingRolluppivot = create_Rollup_pivot(MarketingRollup)\n",
    "ProgramsandServicesRolluppivot = create_Rollup_pivot(ProgramsandServicesRollup)"
   ]
  },
  {
   "cell_type": "markdown",
   "metadata": {},
   "source": [
    "# Add Subtotals\n",
    "\n",
    "Adding subtotals to Pandas Pivot Tables is not intuitive or easy, but it is very important so that the user can tie the totals to what we see in the reports out of Workday."
   ]
  },
  {
   "cell_type": "code",
   "execution_count": 38,
   "metadata": {},
   "outputs": [],
   "source": [
    "def add_subtotal(PivotedGroup):\n",
    "    out = pd.concat([d.append(d.sum().rename((k, '', '', '', '', 'Subtotal'))) for k, d in PivotedGroup.groupby('Spend Category')]).append((PivotedGroup.sum()).rename(('Grand', '', '', '', '', 'Total')))\n",
    "    out.index = pd.MultiIndex.from_tuples(out.index)\n",
    "    return out"
   ]
  },
  {
   "cell_type": "code",
   "execution_count": 39,
   "metadata": {},
   "outputs": [],
   "source": [
    "def add_subtotal_Project(PivotedGroup):\n",
    "    out = pd.concat([d.append(d.sum().rename((k, '', '', '', '', '', 'Subtotal'))) for k, d in PivotedGroup.groupby('Project')]).append((PivotedGroup.sum()).rename(('Grand', '', '', '', '', '', 'Total')))\n",
    "    out.index = pd.MultiIndex.from_tuples(out.index)\n",
    "    return out"
   ]
  },
  {
   "cell_type": "code",
   "execution_count": 40,
   "metadata": {},
   "outputs": [],
   "source": [
    "def add_subtotal_Rollup(PivotedGroup):\n",
    "    out = pd.concat([d.append(d.sum().rename((k, '', '', '', '', '', 'Subtotal'))) for k, d in PivotedGroup.groupby('Cost Center')]).append((PivotedGroup.sum()).rename(('Grand', '', '', '', '', '', 'Total')))\n",
    "    out.index = pd.MultiIndex.from_tuples(out.index)\n",
    "    return out"
   ]
  },
  {
   "cell_type": "code",
   "execution_count": 41,
   "metadata": {},
   "outputs": [],
   "source": [
    "def add_subtotal_Occupancy(PivotedGroup):\n",
    "    out = pd.concat([d.append(d.sum().rename((k, '', '', '', '', 'Subtotal'))) for k, d in PivotedGroup.groupby('Location')]).append((PivotedGroup.sum()).rename(('Grand', '', '', '', '', 'Total')))\n",
    "    out.index = pd.MultiIndex.from_tuples(out.index)\n",
    "    return out"
   ]
  },
  {
   "cell_type": "code",
   "execution_count": 42,
   "metadata": {},
   "outputs": [],
   "source": [
    "def add_subtotal_Programs(PivotedGroup):\n",
    "    out = pd.concat([d.append(d.sum().rename((k, '', '', '', '', '', 'Subtotal'))) for k, d in PivotedGroup.groupby('Program')]).append((PivotedGroup.sum()).rename(('Grand', '', '', '', '', '', 'Total')))\n",
    "    out.index = pd.MultiIndex.from_tuples(out.index)\n",
    "    return out"
   ]
  },
  {
   "cell_type": "code",
   "execution_count": 43,
   "metadata": {},
   "outputs": [],
   "source": [
    "Occupancypivot = add_subtotal_Occupancy(Occupancypivot)"
   ]
  },
  {
   "cell_type": "code",
   "execution_count": 44,
   "metadata": {},
   "outputs": [],
   "source": [
    "DevelopmentRolluppivot = add_subtotal_Rollup(DevelopmentRolluppivot)\n",
    "CommunityRolluppivot = add_subtotal_Rollup(CommunityRolluppivot)\n",
    "MarketingRolluppivot = add_subtotal_Rollup(MarketingRolluppivot)\n",
    "ProgramsandServicesRolluppivot = add_subtotal_Rollup(ProgramsandServicesRolluppivot)"
   ]
  },
  {
   "cell_type": "code",
   "execution_count": 45,
   "metadata": {},
   "outputs": [],
   "source": [
    "Marketingpivot = add_subtotal_Project(Marketingpivot)\n",
    "Technologypivot = add_subtotal_Project(Technologypivot)"
   ]
  },
  {
   "cell_type": "code",
   "execution_count": 46,
   "metadata": {},
   "outputs": [],
   "source": [
    "ProgramsandServicespivot = add_subtotal_Programs(ProgramsandServicespivot)"
   ]
  },
  {
   "cell_type": "code",
   "execution_count": 47,
   "metadata": {},
   "outputs": [],
   "source": [
    "Financepiv = add_subtotal(Financepivot)\n",
    "HRpivot = add_subtotal(HRpivot)\n",
    "VEpivot = add_subtotal(VEpivot)\n",
    "Legalpivot = add_subtotal(Legalpivot)\n",
    "Prof_Edpivot = add_subtotal(Prof_Edpivot)\n",
    "DirectMarketingpivot = add_subtotal(DirectMarketingpivot)\n",
    "Researchpivot = add_subtotal(Researchpivot)\n",
    "MS_Navigatorpivot = add_subtotal(MS_Navigatorpivot)\n",
    "Developmentpivot = add_subtotal(Developmentpivot)\n",
    "Digital_Marketingpivot = add_subtotal(Digital_Marketingpivot)\n",
    "Community_Engagementpivot = add_subtotal(Community_Engagementpivot)\n",
    "Community_Leadershippivot = add_subtotal(Community_Leadershippivot)\n",
    "Event_Productionpivot = add_subtotal(Event_Productionpivot)\n",
    "ToolsandResourcespivot = add_subtotal(ToolsandResourcespivot)\n",
    "Brand_Managementpivot = add_subtotal(Brand_Managementpivot)\n",
    "FundraisingSupportpivot = add_subtotal(FundraisingSupportpivot)\n",
    "Facilitiespivot = add_subtotal(Facilitiespivot)\n",
    "Advocacypivot = add_subtotal(Advocacypivot)\n",
    "Services_Resourcespivot = add_subtotal(Services_Resourcespivot)\n",
    "Operationspivot = add_subtotal(Operationspivot)"
   ]
  },
  {
   "cell_type": "markdown",
   "metadata": {},
   "source": [
    "# Export Pivot Table to Excel File\n",
    "\n",
    "Using Pandas to_excel() function, I can freeze panes and export the pivot table to an excel spreadsheet, but I am not able to format it with Pandas.  For that, I need to use Openpyxl.  For now, I'm creating the Pivot Tables with pandas in Excel files to come back to and format with Openpyxl in the next step."
   ]
  },
  {
   "cell_type": "code",
   "execution_count": 48,
   "metadata": {},
   "outputs": [],
   "source": [
    "def to_excel(pivot, str):\n",
    "    pivot.to_excel(path+str, freeze_panes = (1,6), engine = 'openpyxl', sheet_name = 'Trans Detail', float_format = \"%.0f\")"
   ]
  },
  {
   "cell_type": "code",
   "execution_count": 49,
   "metadata": {},
   "outputs": [],
   "source": [
    "def to_excel_Project(pivot, str):\n",
    "    pivot.to_excel(path+str, freeze_panes = (1,7), engine = 'openpyxl', sheet_name = 'Trans Detail', float_format = \"%.0f\")"
   ]
  },
  {
   "cell_type": "code",
   "execution_count": 50,
   "metadata": {},
   "outputs": [],
   "source": [
    "to_excel_Project(DevelopmentRolluppivot,'\\DevelopmentRollup_TransDetail.xlsx')\n",
    "to_excel_Project(CommunityRolluppivot,'\\CommunityRollup_TransDetail.xlsx')\n",
    "to_excel_Project(MarketingRolluppivot,'\\MarketingRollup_TransDetail.xlsx')\n",
    "to_excel_Project(ProgramsandServicesRolluppivot,'\\ProgramsandServicesRollup_TransDetail.xlsx')"
   ]
  },
  {
   "cell_type": "code",
   "execution_count": 51,
   "metadata": {},
   "outputs": [],
   "source": [
    "to_excel_Project(Technologypivot,'\\Technology_TransDetail.xlsx')\n",
    "to_excel_Project(Marketingpivot,'\\Marketing_TransDetail.xlsx')\n",
    "to_excel_Project(ProgramsandServicespivot,'\\ProgramsandServices_TransDetail.xlsx')"
   ]
  },
  {
   "cell_type": "code",
   "execution_count": 52,
   "metadata": {},
   "outputs": [],
   "source": [
    "to_excel(Occupancypivot,'\\Occupancy_TransDetail.xlsx')"
   ]
  },
  {
   "cell_type": "code",
   "execution_count": 53,
   "metadata": {},
   "outputs": [],
   "source": [
    "\n",
    "file_names = ['\\Advocacy_TransDetail.xlsx', '\\Operations_TransDetail.xlsx',  '\\Community_Leadership_TransDetail.xlsx', '\\Facilities_TransDetail.xlsx', '\\Services_Resources_TransDetail.xlsx', '\\Brand_Management_TransDetail.xlsx', '\\VE_TransDetail.xlsx', '\\HR_TransDetail.xlsx', '\\Finance_TransDetail.xlsx', '\\Legal_TransDetail.xlsx', '\\Prof_Ed_TransDetail.xlsx', '\\DirectMarketing_TransDetail.xlsx', '\\Research_TransDetail.xlsx', '\\MS_Navigator_TransDetail.xlsx', '\\Development_TransDetail.xlsx', '\\Digital_Marketing_TransDetail.xlsx', '\\Community_Engagement_TransDetail.xlsx', '\\Event_Production_TransDetail.xlsx', '\\FundraisingSupport_TransDetail.xlsx'] \n",
    "\n",
    "to_excel(VEpivot,'\\VE_TransDetail.xlsx')\n",
    "to_excel(Financepiv,'\\Finance_TransDetail.xlsx')\n",
    "to_excel(Legalpivot,'\\Legal_TransDetail.xlsx')\n",
    "to_excel(HRpivot,'\\HR_TransDetail.xlsx')\n",
    "to_excel(Prof_Edpivot,'\\Prof_Ed_TransDetail.xlsx')\n",
    "to_excel(DirectMarketingpivot,'\\DirectMarketing_TransDetail.xlsx')\n",
    "to_excel(Researchpivot,'\\Research_TransDetail.xlsx')\n",
    "to_excel(MS_Navigatorpivot,'\\MS_Navigator_TransDetail.xlsx')\n",
    "to_excel(Developmentpivot,'\\Development_TransDetail.xlsx')\n",
    "to_excel(Digital_Marketingpivot,'\\Digital_Marketing_TransDetail.xlsx')\n",
    "to_excel(Community_Engagementpivot,'\\Community_Engagement_TransDetail.xlsx')\n",
    "to_excel(Event_Productionpivot,'\\Event_Production_TransDetail.xlsx')\n",
    "to_excel(ToolsandResourcespivot,'\\ToolsandResources_TransDetail.xlsx')\n",
    "to_excel(Brand_Managementpivot,'\\Brand_Management_TransDetail.xlsx')\n",
    "to_excel(FundraisingSupportpivot,'\\FundraisingSupport_TransDetail.xlsx')\n",
    "to_excel(Facilitiespivot,'\\Facilities_TransDetail.xlsx')\n",
    "to_excel(Advocacypivot,'\\Advocacy_TransDetail.xlsx')\n",
    "to_excel(Services_Resourcespivot,'\\Services_Resources_TransDetail.xlsx')\n",
    "to_excel(Operationspivot,'\\Operations_TransDetail.xlsx')\n",
    "to_excel(Community_Leadershippivot,'\\Community_Leadership_TransDetail.xlsx')\n",
    "\n",
    "\n",
    "\n",
    "\n",
    "\n"
   ]
  },
  {
   "cell_type": "markdown",
   "metadata": {},
   "source": [
    "#  Openpyxl formatting\n",
    "\n",
    "In this section, I am taking the excel file that I already saved with Pandas, and formatting it for the end user.  This includes adding column labels, number formatting, bold formatting, color formatting for the headers, changing column widths, changing alignment, and adding borders.  Finally, after this I am saving the files over the old excel files."
   ]
  },
  {
   "cell_type": "code",
   "execution_count": 54,
   "metadata": {},
   "outputs": [],
   "source": [
    "from openpyxl.styles import Color, PatternFill, Font, Border\n",
    "greyFill = PatternFill(start_color='00C0C0C0',\n",
    "                   end_color='00C0C0C0',\n",
    "                   fill_type='solid')"
   ]
  },
  {
   "cell_type": "code",
   "execution_count": 55,
   "metadata": {},
   "outputs": [],
   "source": [
    "from openpyxl import load_workbook\n",
    "from openpyxl.styles import Font\n",
    "from openpyxl.styles import Alignment\n",
    "from openpyxl.styles.borders import Border, Side\n",
    "\n",
    "\n",
    "def edit_workbook(file):\n",
    "    book = load_workbook(file)\n",
    "    sheet = book.active #active means last opened sheet\n",
    "    sheet['A1']= \"Spend Category\"\n",
    "    sheet['B1']= \"Supplier\"\n",
    "    sheet['C1']= \"Line Memo\"\n",
    "    sheet['D1']= \"Journal Memo\"\n",
    "    sheet['E1']= \"Operational Transaction\"\n",
    "    sheet['F1']= \"Employee\"\n",
    "    sheet['A1'].font = Font(bold=True)\n",
    "    sheet['B1'].font = Font(bold=True)\n",
    "    sheet['C1'].font = Font(bold=True)\n",
    "    sheet['D1'].font = Font(bold=True)\n",
    "    sheet['E1'].font = Font(bold=True)\n",
    "    sheet['F1'].font = Font(bold=True)\n",
    "    sheet.column_dimensions['A'].width = 15\n",
    "    sheet.column_dimensions['B'].width = 20\n",
    "    sheet.column_dimensions['C'].width = 20\n",
    "    sheet.column_dimensions['D'].width = 20\n",
    "    sheet.column_dimensions['E'].width = 15\n",
    "    sheet.column_dimensions['F'].width = 15\n",
    "    sheet.column_dimensions['G'].width = 15\n",
    "    sheet.column_dimensions['H'].width = 12.5\n",
    "    sheet.column_dimensions['I'].width = 12.5\n",
    "    sheet.column_dimensions['J'].width = 12.5\n",
    "    sheet.column_dimensions['K'].width = 12.5\n",
    "    sheet.column_dimensions['L'].width = 12.5\n",
    "    sheet.column_dimensions['M'].width = 12.5\n",
    "    sheet.column_dimensions['N'].width = 12.5\n",
    "    sheet.column_dimensions['O'].width = 12.5\n",
    "    sheet.column_dimensions['P'].width = 12.5\n",
    "    sheet.column_dimensions['Q'].width = 12.5\n",
    "    sheet.column_dimensions['R'].width = 12.5\n",
    "    sheet.column_dimensions['S'].width = 12.5\n",
    "    sheet.column_dimensions['T'].width = 12.5   \n",
    "    sheet.column_dimensions['D'].hidden = True\n",
    "    num_rows = sheet.max_row\n",
    "    curr_row = 1\n",
    "    for col in range(7, 22):\n",
    "        for row in range(1, num_rows+1):\n",
    "            sheet.cell(column=col, row=row).number_format = '\"$\"#,##0.00_);[Red](\"$\"#,##0.00)'\n",
    "    for col in range(1, 7):\n",
    "        for row in range(1, num_rows):\n",
    "            sheet.cell(column=col, row=row).alignment = Alignment(horizontal = 'left', vertical='top')\n",
    "            sheet.cell(column=col, row=row).fill = greyFill\n",
    "    for i in range(1, sheet.max_row + 1):\n",
    "        if sheet.cell(row=i, column=6).value == \"Subtotal\":\n",
    "            for j in range(7,20):\n",
    "                sheet.cell(column=j, row=i).font = Font(bold=True)\n",
    "                sheet.cell(column=j, row=i).border = Border(bottom=Side(style='thin'))       \n",
    "    book.save(file)"
   ]
  },
  {
   "cell_type": "code",
   "execution_count": 56,
   "metadata": {},
   "outputs": [],
   "source": [
    "def edit_workbook_projects(file):\n",
    "    book = load_workbook(file)\n",
    "    sheet = book.active #active means last opened sheet\n",
    "    sheet['A1']= \"Project\"\n",
    "    sheet['B1']= \"Spend Category\"\n",
    "    sheet['C1']= \"Supplier\"\n",
    "    sheet['D1']= \"Line Memo\"\n",
    "    sheet['E1']= \"Journal Memo\"\n",
    "    sheet['F1']= \"Operational Transaction\"\n",
    "    sheet['G1']= \"Employee\"\n",
    "    sheet['A1'].font = Font(bold=True)\n",
    "    sheet['B1'].font = Font(bold=True)\n",
    "    sheet['C1'].font = Font(bold=True)\n",
    "    sheet['D1'].font = Font(bold=True)\n",
    "    sheet['E1'].font = Font(bold=True)\n",
    "    sheet['F1'].font = Font(bold=True)\n",
    "    sheet['G1'].font = Font(bold=True)\n",
    "    sheet.column_dimensions['A'].width = 15\n",
    "    sheet.column_dimensions['B'].width = 20\n",
    "    sheet.column_dimensions['C'].width = 20\n",
    "    sheet.column_dimensions['D'].width = 20\n",
    "    sheet.column_dimensions['E'].width = 20\n",
    "    sheet.column_dimensions['F'].width = 15 \n",
    "    sheet.column_dimensions['G'].width = 15\n",
    "    sheet.column_dimensions['H'].width = 12.5\n",
    "    sheet.column_dimensions['I'].width = 12.5\n",
    "    sheet.column_dimensions['J'].width = 12.5\n",
    "    sheet.column_dimensions['K'].width = 12.5\n",
    "    sheet.column_dimensions['L'].width = 12.5\n",
    "    sheet.column_dimensions['M'].width = 12.5\n",
    "    sheet.column_dimensions['N'].width = 12.5\n",
    "    sheet.column_dimensions['O'].width = 12.5\n",
    "    sheet.column_dimensions['P'].width = 12.5\n",
    "    sheet.column_dimensions['Q'].width = 12.5\n",
    "    sheet.column_dimensions['R'].width = 12.5\n",
    "    sheet.column_dimensions['S'].width = 12.5\n",
    "    sheet.column_dimensions['T'].width = 12.5       \n",
    "    sheet.column_dimensions['E'].hidden = True\n",
    "    num_rows = sheet.max_row\n",
    "    curr_row = 1\n",
    "    for col in range(8, 23):\n",
    "        for row in range(1, num_rows+1):\n",
    "            sheet.cell(column=col, row=row).number_format = '\"$\"#,##0.00_);[Red](\"$\"#,##0.00)'\n",
    "    for col in range(1, 8):\n",
    "        for row in range(1, num_rows):\n",
    "            sheet.cell(column=col, row=row).alignment = Alignment(horizontal = 'left', vertical='top')\n",
    "            sheet.cell(column=col, row=row).fill = greyFill            \n",
    "    for i in range(1, sheet.max_row + 1):\n",
    "        if sheet.cell(row=i, column=7).value == \"Subtotal\":\n",
    "            for j in range(8,21):\n",
    "                sheet.cell(column=j, row=i).font = Font(bold=True)\n",
    "                sheet.cell(column=j, row=i).border = Border(bottom=Side(style='thin'))       \n",
    "    book.save(file)"
   ]
  },
  {
   "cell_type": "code",
   "execution_count": 57,
   "metadata": {},
   "outputs": [],
   "source": [
    "def edit_workbook_programs(file):\n",
    "    book = load_workbook(file)\n",
    "    sheet = book.active #active means last opened sheet\n",
    "    sheet['A1']= \"Program\"\n",
    "    sheet['B1']= \"Spend Category\"\n",
    "    sheet['C1']= \"Supplier\"\n",
    "    sheet['D1']= \"Line Memo\"\n",
    "    sheet['E1']= \"Journal Memo\"\n",
    "    sheet['F1']= \"Operational Transaction\"\n",
    "    sheet['G1']= \"Employee\"\n",
    "    sheet['A1'].font = Font(bold=True)\n",
    "    sheet['B1'].font = Font(bold=True)\n",
    "    sheet['C1'].font = Font(bold=True)\n",
    "    sheet['D1'].font = Font(bold=True)\n",
    "    sheet['E1'].font = Font(bold=True)\n",
    "    sheet['F1'].font = Font(bold=True)\n",
    "    sheet['G1'].font = Font(bold=True)\n",
    "    sheet.column_dimensions['A'].width = 15\n",
    "    sheet.column_dimensions['B'].width = 20\n",
    "    sheet.column_dimensions['C'].width = 20\n",
    "    sheet.column_dimensions['D'].width = 20\n",
    "    sheet.column_dimensions['E'].width = 20\n",
    "    sheet.column_dimensions['F'].width = 15 \n",
    "    sheet.column_dimensions['G'].width = 15\n",
    "    sheet.column_dimensions['H'].width = 12.5\n",
    "    sheet.column_dimensions['I'].width = 12.5\n",
    "    sheet.column_dimensions['J'].width = 12.5\n",
    "    sheet.column_dimensions['K'].width = 12.5\n",
    "    sheet.column_dimensions['L'].width = 12.5\n",
    "    sheet.column_dimensions['M'].width = 12.5\n",
    "    sheet.column_dimensions['N'].width = 12.5\n",
    "    sheet.column_dimensions['O'].width = 12.5\n",
    "    sheet.column_dimensions['P'].width = 12.5\n",
    "    sheet.column_dimensions['Q'].width = 12.5\n",
    "    sheet.column_dimensions['R'].width = 12.5\n",
    "    sheet.column_dimensions['S'].width = 12.5\n",
    "    sheet.column_dimensions['T'].width = 12.5     \n",
    "    sheet.column_dimensions['E'].hidden = True\n",
    "    num_rows = sheet.max_row\n",
    "    curr_row = 1\n",
    "    for col in range(8, 23):\n",
    "        for row in range(1, num_rows+1):\n",
    "            sheet.cell(column=col, row=row).number_format = '\"$\"#,##0.00_);[Red](\"$\"#,##0.00)'\n",
    "    for col in range(1, 8):\n",
    "        for row in range(1, num_rows):\n",
    "            sheet.cell(column=col, row=row).alignment = Alignment(horizontal = 'left', vertical='top')\n",
    "            sheet.cell(column=col, row=row).fill = greyFill            \n",
    "    for i in range(1, sheet.max_row + 1):\n",
    "        if sheet.cell(row=i, column=7).value == \"Subtotal\":\n",
    "            for j in range(8,21):\n",
    "                sheet.cell(column=j, row=i).font = Font(bold=True)\n",
    "                sheet.cell(column=j, row=i).border = Border(bottom=Side(style='thin'))       \n",
    "    book.save(file)"
   ]
  },
  {
   "cell_type": "code",
   "execution_count": 58,
   "metadata": {},
   "outputs": [],
   "source": [
    "\n",
    "def edit_workbook_Occupancy(file):\n",
    "    book = load_workbook(file)\n",
    "    sheet = book.active #active means last opened sheet\n",
    "    sheet['A1']= \"Location\"\n",
    "    sheet['B1']= \"Spend Category\"\n",
    "    sheet['C1']= \"Supplier\"\n",
    "    sheet['D1']= \"Line Memo\"\n",
    "    sheet['E1']= \"Journal Memo\"\n",
    "    sheet['F1']= \"Operational Transaction\"\n",
    "    sheet['A1'].font = Font(bold=True)\n",
    "    sheet['B1'].font = Font(bold=True)\n",
    "    sheet['C1'].font = Font(bold=True)\n",
    "    sheet['D1'].font = Font(bold=True)\n",
    "    sheet['E1'].font = Font(bold=True)\n",
    "    sheet['F1'].font = Font(bold=True)\n",
    "    sheet.column_dimensions['A'].width = 15\n",
    "    sheet.column_dimensions['B'].width = 20\n",
    "    sheet.column_dimensions['C'].width = 20\n",
    "    sheet.column_dimensions['D'].width = 20\n",
    "    sheet.column_dimensions['E'].width = 20\n",
    "    sheet.column_dimensions['F'].width = 15\n",
    "    sheet.column_dimensions['G'].width = 12.5\n",
    "    sheet.column_dimensions['H'].width = 12.5\n",
    "    sheet.column_dimensions['I'].width = 12.5\n",
    "    sheet.column_dimensions['J'].width = 12.5\n",
    "    sheet.column_dimensions['K'].width = 12.5\n",
    "    sheet.column_dimensions['L'].width = 12.5\n",
    "    sheet.column_dimensions['M'].width = 12.5\n",
    "    sheet.column_dimensions['N'].width = 12.5\n",
    "    sheet.column_dimensions['O'].width = 12.5\n",
    "    sheet.column_dimensions['P'].width = 12.5\n",
    "    sheet.column_dimensions['Q'].width = 12.5\n",
    "    sheet.column_dimensions['R'].width = 12.5\n",
    "    sheet.column_dimensions['S'].width = 12.5\n",
    "    sheet.column_dimensions['T'].width = 12.5         \n",
    "    sheet.column_dimensions['E'].hidden = True\n",
    "    num_rows = sheet.max_row\n",
    "    curr_row = 1\n",
    "    for col in range(7, 22):\n",
    "        for row in range(1, num_rows+1):\n",
    "            sheet.cell(column=col, row=row).number_format = '\"$\"#,##0.00_);[Red](\"$\"#,##0.00)'\n",
    "    for col in range(1, 7):\n",
    "        for row in range(1, num_rows):\n",
    "            sheet.cell(column=col, row=row).alignment = Alignment(horizontal = 'left', vertical='top')\n",
    "            sheet.cell(column=col, row=row).fill = greyFill  \n",
    "    for i in range(1, sheet.max_row + 1):\n",
    "        if sheet.cell(row=i, column=7).value == \"Subtotal\":\n",
    "            for j in range(7,20):\n",
    "                sheet.cell(column=j, row=i).font = Font(bold=True)\n",
    "                sheet.cell(column=j, row=i).border = Border(bottom=Side(style='thin'))       \n",
    "    book.save(file)"
   ]
  },
  {
   "cell_type": "code",
   "execution_count": 59,
   "metadata": {},
   "outputs": [],
   "source": [
    "def edit_workbook_CC(file):\n",
    "    book = load_workbook(file)\n",
    "    sheet = book.active #active means last opened sheet\n",
    "    sheet['A1']= \"Cost Center\"\n",
    "    sheet['B1']= \"Spend Category\"\n",
    "    sheet['C1']= \"Supplier\"\n",
    "    sheet['D1']= \"Line Memo\"\n",
    "    sheet['E1']= \"Journal Memo\"\n",
    "    sheet['F1']= \"Operational Transaction\"\n",
    "    sheet['G1']= \"Employee\"\n",
    "    sheet['A1'].font = Font(bold=True)\n",
    "    sheet['B1'].font = Font(bold=True)\n",
    "    sheet['C1'].font = Font(bold=True)\n",
    "    sheet['D1'].font = Font(bold=True)\n",
    "    sheet['E1'].font = Font(bold=True)\n",
    "    sheet['F1'].font = Font(bold=True)\n",
    "    sheet['G1'].font = Font(bold=True)\n",
    "    sheet.column_dimensions['A'].width = 15\n",
    "    sheet.column_dimensions['B'].width = 20\n",
    "    sheet.column_dimensions['C'].width = 20\n",
    "    sheet.column_dimensions['D'].width = 20\n",
    "    sheet.column_dimensions['E'].width = 20\n",
    "    sheet.column_dimensions['F'].width = 15 \n",
    "    sheet.column_dimensions['G'].width = 15\n",
    "    sheet.column_dimensions['H'].width = 12.5\n",
    "    sheet.column_dimensions['I'].width = 12.5\n",
    "    sheet.column_dimensions['J'].width = 12.5\n",
    "    sheet.column_dimensions['K'].width = 12.5\n",
    "    sheet.column_dimensions['L'].width = 12.5\n",
    "    sheet.column_dimensions['M'].width = 12.5\n",
    "    sheet.column_dimensions['N'].width = 12.5\n",
    "    sheet.column_dimensions['O'].width = 12.5\n",
    "    sheet.column_dimensions['P'].width = 12.5\n",
    "    sheet.column_dimensions['Q'].width = 12.5\n",
    "    sheet.column_dimensions['R'].width = 12.5\n",
    "    sheet.column_dimensions['S'].width = 12.5\n",
    "    sheet.column_dimensions['T'].width = 12.5     \n",
    "    sheet.column_dimensions['E'].hidden = True\n",
    "    num_rows = sheet.max_row\n",
    "    curr_row = 1\n",
    "    for col in range(8, 23):\n",
    "        for row in range(1, num_rows+1):\n",
    "            sheet.cell(column=col, row=row).number_format = '\"$\"#,##0.00_);[Red](\"$\"#,##0.00)'\n",
    "    for col in range(1, 8):\n",
    "        for row in range(1, num_rows):\n",
    "            sheet.cell(column=col, row=row).alignment = Alignment(horizontal = 'left', vertical='top')\n",
    "            sheet.cell(column=col, row=row).fill = greyFill            \n",
    "    for i in range(1, sheet.max_row + 1):\n",
    "        if sheet.cell(row=i, column=7).value == \"Subtotal\":\n",
    "            for j in range(8,21):\n",
    "                sheet.cell(column=j, row=i).font = Font(bold=True)\n",
    "                sheet.cell(column=j, row=i).border = Border(bottom=Side(style='thin'))       \n",
    "    book.save(file)"
   ]
  },
  {
   "cell_type": "code",
   "execution_count": 60,
   "metadata": {},
   "outputs": [],
   "source": [
    "edit_workbook_projects(path+'\\Technology_TransDetail.xlsx')\n",
    "edit_workbook_projects(path+'\\Marketing_TransDetail.xlsx')\n",
    "edit_workbook_programs(path+'\\ProgramsandServices_TransDetail.xlsx')\n",
    "\n"
   ]
  },
  {
   "cell_type": "code",
   "execution_count": 61,
   "metadata": {},
   "outputs": [],
   "source": [
    "to_excel_Project(DevelopmentRolluppivot,'\\DevelopmentRollup_TransDetail.xlsx')\n",
    "to_excel_Project(CommunityRolluppivot,'\\CommunityRollup_TransDetail.xlsx')\n",
    "to_excel_Project(MarketingRolluppivot,'\\MarketingRollup_TransDetail.xlsx')\n",
    "to_excel_Project(ProgramsandServicesRolluppivot,'\\ProgramsandServicesRollup_TransDetail.xlsx')"
   ]
  },
  {
   "cell_type": "code",
   "execution_count": 62,
   "metadata": {},
   "outputs": [],
   "source": [
    "edit_workbook_CC(path+'\\DevelopmentRollup_TransDetail.xlsx')\n",
    "edit_workbook_CC(path+'\\CommunityRollup_TransDetail.xlsx')\n",
    "edit_workbook_CC(path+'\\MarketingRollup_TransDetail.xlsx')\n",
    "edit_workbook_CC(path+'\\ProgramsandServicesRollup_TransDetail.xlsx')"
   ]
  },
  {
   "cell_type": "code",
   "execution_count": 63,
   "metadata": {},
   "outputs": [],
   "source": [
    "edit_workbook_Occupancy(path+'\\Occupancy_TransDetail.xlsx')"
   ]
  },
  {
   "cell_type": "code",
   "execution_count": 64,
   "metadata": {},
   "outputs": [
    {
     "name": "stdout",
     "output_type": "stream",
     "text": [
      "Wall time: 1min 32s\n"
     ]
    }
   ],
   "source": [
    "%%time\n",
    "for i in file_names:\n",
    "    edit_workbook(path+i)"
   ]
  },
  {
   "cell_type": "markdown",
   "metadata": {},
   "source": [
    "# Add Paid/Unpaid Invoices\n",
    "\n",
    "In this section I am adding whether or not the invoices are paid or unpaid to each sheet."
   ]
  },
  {
   "cell_type": "code",
   "execution_count": 65,
   "metadata": {},
   "outputs": [
    {
     "name": "stdout",
     "output_type": "stream",
     "text": [
      "(19435, 25)\n"
     ]
    }
   ],
   "source": [
    "InvoiceStatus = pd.read_excel(\"Excel 2020-09-15 10_02 PDT.xlsx\", sheet_name='Sheet1', header = 23)\n",
    "\n",
    "print(InvoiceStatus.shape)"
   ]
  },
  {
   "cell_type": "code",
   "execution_count": 66,
   "metadata": {},
   "outputs": [],
   "source": [
    "InvoiceStatus.rename(columns={'Supplier Invoice': 'Operational Transaction'}, inplace=True)"
   ]
  },
  {
   "cell_type": "code",
   "execution_count": 67,
   "metadata": {},
   "outputs": [],
   "source": [
    "Cost_Centers = FY20_Data[['Operational Transaction', 'Cost Center']]"
   ]
  },
  {
   "cell_type": "code",
   "execution_count": 68,
   "metadata": {},
   "outputs": [],
   "source": [
    "Cost_Centers = Cost_Centers[Cost_Centers['Cost Center'].notna()]"
   ]
  },
  {
   "cell_type": "code",
   "execution_count": 69,
   "metadata": {},
   "outputs": [],
   "source": [
    "InvoiceStatus = pd.merge(InvoiceStatus, Cost_Centers, on='Operational Transaction', how='left')"
   ]
  },
  {
   "cell_type": "code",
   "execution_count": 70,
   "metadata": {},
   "outputs": [],
   "source": [
    "InvoiceStatus = InvoiceStatus.drop_duplicates()"
   ]
  },
  {
   "cell_type": "code",
   "execution_count": 71,
   "metadata": {
    "scrolled": true
   },
   "outputs": [
    {
     "name": "stdout",
     "output_type": "stream",
     "text": [
      "       Operational Transaction Invoice Number  \\\n",
      "0  Supplier Invoice: IN-020459      IN-020459   \n",
      "1  Supplier Invoice: IN-019092      IN-019092   \n",
      "2  Supplier Invoice: IN-020441      IN-020441   \n",
      "3  Supplier Invoice: IN-020100      IN-020100   \n",
      "5  Supplier Invoice: IN-020932      IN-020932   \n",
      "\n",
      "                                    Company Intercompany  Direct Intercompany  \\\n",
      "0  NMSS National Multiple Sclerosis Society          NaN                  NaN   \n",
      "1  NMSS National Multiple Sclerosis Society          NaN                  NaN   \n",
      "2  NMSS National Multiple Sclerosis Society          NaN                  NaN   \n",
      "3  NMSS National Multiple Sclerosis Society          NaN                  NaN   \n",
      "5  NMSS National Multiple Sclerosis Society          NaN                  NaN   \n",
      "\n",
      "   Tax-Only    Status Cancel Date               Supplier  \\\n",
      "0       NaN  Approved         NaT             MERKLE INC   \n",
      "1       NaN  Approved         NaT       CHARLOTTE HANSON   \n",
      "2       NaN  Approved         NaT           FACEBOOK INC   \n",
      "3       NaN  Approved         NaT    DOLP 733 PROPERTIES   \n",
      "5       NaN  Approved         NaT  ELDER CONNECTIONS INC   \n",
      "\n",
      "  Supplier's Invoice Number  ... Balance Due Currency On Hold  Adjustment  \\\n",
      "0                    290490  ...     9346.43      USD     NaN         NaN   \n",
      "1                    100120  ...     2100.00      USD     NaN         NaN   \n",
      "2                  24010230  ...     2249.99      USD     NaN         NaN   \n",
      "3                    093020  ...        0.00      USD     NaN         NaN   \n",
      "5                      3827  ...      112.50      USD     NaN         NaN   \n",
      "\n",
      "  Adjustment Reason  Procurement Related       Invoice Created By  \\\n",
      "0               NaN                  NaN           Vinton Douglas   \n",
      "1               NaN                  NaN           Vinton Douglas   \n",
      "2               NaN                  NaN              Susan Moore   \n",
      "3               NaN                  NaN           Vinton Douglas   \n",
      "5               NaN                  NaN  Elizabeth Suarez-Amador   \n",
      "\n",
      "  Purchase Orders External PO Number              Cost Center  \n",
      "0             NaN                NaN                      NaN  \n",
      "1             NaN                NaN                      NaN  \n",
      "2             NaN                NaN  CC010 Digital Marketing  \n",
      "3             NaN                NaN         CC005 Facilities  \n",
      "5             NaN                NaN       CC028 MS Navigator  \n",
      "\n",
      "[5 rows x 26 columns]\n",
      "(20161, 26)\n"
     ]
    }
   ],
   "source": [
    "print(InvoiceStatus.head())\n",
    "print(InvoiceStatus.shape)"
   ]
  },
  {
   "cell_type": "code",
   "execution_count": 72,
   "metadata": {},
   "outputs": [],
   "source": [
    "InvoiceStatus['Cost Center'].fillna(\"Not yet Created/Posted\", inplace=True)\n",
    "InvoiceStatus['On Hold'].fillna(\"Not On Hold\", inplace=True)"
   ]
  },
  {
   "cell_type": "code",
   "execution_count": 73,
   "metadata": {},
   "outputs": [],
   "source": [
    "TechnologyInvoices = InvoiceStatus[InvoiceStatus['Cost Center']=='CC012 Technology']\n",
    "ProgramsandServicesInvoices = InvoiceStatus[InvoiceStatus['Cost Center']=='CC027 Programs & Services']"
   ]
  },
  {
   "cell_type": "code",
   "execution_count": 74,
   "metadata": {},
   "outputs": [],
   "source": [
    "TechnologyInvoices = pd.pivot_table(TechnologyInvoices, index = ['Supplier','Invoice Number','Due Date', 'Status', 'On Hold'], values = ['Invoice Amount', 'Balance Due'], aggfunc=np.sum)\n",
    "ProgramsandServicesInvoices = pd.pivot_table(ProgramsandServicesInvoices, index = ['Supplier','Invoice Number','Due Date', 'Status', 'On Hold'], values = ['Invoice Amount', 'Balance Due'], aggfunc=np.sum)"
   ]
  },
  {
   "cell_type": "code",
   "execution_count": 75,
   "metadata": {},
   "outputs": [],
   "source": [
    "TechnologyInvoices.to_excel(\"TechInvoiceTest.xlsx\", sheet_name = 'Invoice Paid or Not Paid', float_format = \"%.0f\")\n",
    "ProgramsandServicesInvoices.to_excel(\"P&SInvoiceTest.xlsx\", sheet_name = 'Invoice Paid or Not Paid', float_format = \"%.0f\")"
   ]
  },
  {
   "cell_type": "code",
   "execution_count": 76,
   "metadata": {},
   "outputs": [
    {
     "name": "stdout",
     "output_type": "stream",
     "text": [
      "393738    CC027 Programs & Services\n",
      "393739                          NaN\n",
      "393746        CC006 Human Resources\n",
      "Name: Cost Center, dtype: object\n"
     ]
    }
   ],
   "source": [
    "test = FY20_Data[FY20_Data['Operational Transaction']=='Supplier Invoice: IN-020039']\n",
    "\n",
    "print(test['Cost Center'])"
   ]
  },
  {
   "cell_type": "code",
   "execution_count": null,
   "metadata": {},
   "outputs": [],
   "source": []
  }
 ],
 "metadata": {
  "kernelspec": {
   "display_name": "Python 3",
   "language": "python",
   "name": "python3"
  },
  "language_info": {
   "codemirror_mode": {
    "name": "ipython",
    "version": 3
   },
   "file_extension": ".py",
   "mimetype": "text/x-python",
   "name": "python",
   "nbconvert_exporter": "python",
   "pygments_lexer": "ipython3",
   "version": "3.7.6"
  }
 },
 "nbformat": 4,
 "nbformat_minor": 4
}
